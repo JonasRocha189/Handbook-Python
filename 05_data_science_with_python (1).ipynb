{
 "cells": [
  {
   "cell_type": "markdown",
   "id": "50335504",
   "metadata": {},
   "source": [
    "# Section 5 — Data Science with Python\n",
    "This notebook introduces **NumPy**, **Pandas**, **Visualization with Matplotlib**, and **Basic Statistics** using practical, self‑contained examples."
   ]
  },
  {
   "cell_type": "markdown",
   "id": "0a69f9e0",
   "metadata": {},
   "source": [
    "## 1) NumPy Basics — Arrays & Vectorization"
   ]
  },
  {
   "cell_type": "code",
   "execution_count": null,
   "id": "9903d350",
   "metadata": {},
   "outputs": [],
   "source": [
    "\n",
    "import numpy as np\n",
    "\n",
    "# Create arrays\n",
    "a = np.array([1, 2, 3, 4])\n",
    "b = np.arange(0, 10, 2)  # start, stop, step\n",
    "c = np.linspace(0, 1, 5) # 5 points from 0 to 1\n",
    "\n",
    "print(\"a:\", a)\n",
    "print(\"b:\", b)\n",
    "print(\"c:\", c)\n",
    "\n",
    "# Vectorized operations\n",
    "print(\"a * 2:\", a * 2)\n",
    "print(\"a + 10:\", a + 10)\n",
    "print(\"a ** 2:\", a ** 2)\n",
    "\n",
    "# Shapes and reshape\n",
    "m = np.arange(12).reshape(3, 4)\n",
    "print(\"Matrix m:\\n\", m)\n",
    "print(\"m.shape:\", m.shape, \"m.ndim:\", m.ndim)\n"
   ]
  },
  {
   "cell_type": "markdown",
   "id": "03ee84c2",
   "metadata": {},
   "source": [
    "### Broadcasting"
   ]
  },
  {
   "cell_type": "code",
   "execution_count": null,
   "id": "9dbd9a70",
   "metadata": {},
   "outputs": [],
   "source": [
    "\n",
    "x = np.ones((3, 4))\n",
    "y = np.array([1, 2, 3, 4])\n",
    "print(\"x + y (broadcasting):\\n\", x + y)\n"
   ]
  },
  {
   "cell_type": "markdown",
   "id": "4060fc30",
   "metadata": {},
   "source": [
    "### Linear Algebra (dot, transpose, inverse)"
   ]
  },
  {
   "cell_type": "code",
   "execution_count": null,
   "id": "677f216d",
   "metadata": {},
   "outputs": [],
   "source": [
    "\n",
    "M = np.array([[2., 1.], [1., 3.]])\n",
    "v = np.array([4., 5.])\n",
    "\n",
    "# Dot products\n",
    "print(\"M dot v:\", M.dot(v))\n",
    "\n",
    "# Transpose\n",
    "print(\"M.T:\\n\", M.T)\n",
    "\n",
    "# Inverse and solve\n",
    "Minv = np.linalg.inv(M)\n",
    "print(\"Inverse(M):\\n\", Minv)\n",
    "\n",
    "sol = np.linalg.solve(M, v)\n",
    "print(\"Solve Mx=v -> x:\", sol)\n"
   ]
  },
  {
   "cell_type": "markdown",
   "id": "3e62c43b",
   "metadata": {},
   "source": [
    "## 2) Pandas — DataFrames & Series"
   ]
  },
  {
   "cell_type": "code",
   "execution_count": null,
   "id": "1f5ebbe5",
   "metadata": {},
   "outputs": [],
   "source": [
    "\n",
    "import pandas as pd\n",
    "\n",
    "data = {\n",
    "    \"city\": [\"Montreal\", \"Toronto\", \"Vancouver\", \"Calgary\", \"Montreal\"],\n",
    "    \"sales\": [120, 200, 150, 130, 170],\n",
    "    \"month\": pd.to_datetime([\"2025-01-01\", \"2025-01-01\", \"2025-01-01\", \"2025-01-01\", \"2025-02-01\"]),\n",
    "}\n",
    "df = pd.DataFrame(data)\n",
    "print(df)\n",
    "print(\"\\nInfo:\")\n",
    "print(df.info())\n",
    "print(\"\\nDescribe:\")\n",
    "print(df.describe())\n"
   ]
  },
  {
   "cell_type": "markdown",
   "id": "9af6f3d3",
   "metadata": {},
   "source": [
    "### Selection & Filtering"
   ]
  },
  {
   "cell_type": "code",
   "execution_count": null,
   "id": "d9dd77a2",
   "metadata": {},
   "outputs": [],
   "source": [
    "\n",
    "# Select columns\n",
    "print(df[\"city\"].head())\n",
    "print(df[[\"city\", \"sales\"]].head())\n",
    "\n",
    "# Boolean filtering\n",
    "print(\"\\nSales > 150:\")\n",
    "print(df[df[\"sales\"] > 150])\n",
    "\n",
    "# loc / iloc\n",
    "print(\"\\nloc (rows by condition, specific columns):\")\n",
    "print(df.loc[df[\"city\"] == \"Montreal\", [\"city\", \"sales\"]])\n",
    "\n",
    "print(\"\\niloc (by positions):\")\n",
    "print(df.iloc[0:2, 0:2])\n"
   ]
  },
  {
   "cell_type": "markdown",
   "id": "da1d4023",
   "metadata": {},
   "source": [
    "### GroupBy & Aggregation"
   ]
  },
  {
   "cell_type": "code",
   "execution_count": null,
   "id": "f04f712c",
   "metadata": {},
   "outputs": [],
   "source": [
    "\n",
    "grouped = df.groupby(\"city\")[\"sales\"].agg([\"count\", \"sum\", \"mean\"])\n",
    "print(grouped)\n",
    "\n",
    "# Group by month and city\n",
    "multi = df.groupby([\"month\", \"city\"], as_index=False)[\"sales\"].sum()\n",
    "print(\"\\nBy month & city:\")\n",
    "print(multi)\n"
   ]
  },
  {
   "cell_type": "markdown",
   "id": "13adca1c",
   "metadata": {},
   "source": [
    "### Merge / Join"
   ]
  },
  {
   "cell_type": "code",
   "execution_count": null,
   "id": "08e7282c",
   "metadata": {},
   "outputs": [],
   "source": [
    "\n",
    "targets = pd.DataFrame({\n",
    "    \"city\": [\"Montreal\", \"Toronto\", \"Vancouver\", \"Ottawa\"],\n",
    "    \"target\": [160, 210, 140, 100]\n",
    "})\n",
    "\n",
    "merged = pd.merge(df, targets, on=\"city\", how=\"left\")\n",
    "print(merged)\n"
   ]
  },
  {
   "cell_type": "markdown",
   "id": "00e82050",
   "metadata": {},
   "source": [
    "### Datetime Handling"
   ]
  },
  {
   "cell_type": "code",
   "execution_count": null,
   "id": "6c342c5a",
   "metadata": {},
   "outputs": [],
   "source": [
    "\n",
    "df[\"year\"] = df[\"month\"].dt.year\n",
    "df[\"month_num\"] = df[\"month\"].dt.month\n",
    "df[\"month_name\"] = df[\"month\"].dt.strftime(\"%b\")\n",
    "print(df[[\"month\",\"year\",\"month_num\",\"month_name\"]])\n",
    "\n",
    "# Resample example: monthly sum (construct a longer example)\n",
    "dates = pd.date_range(\"2025-01-01\", periods=60, freq=\"D\")\n",
    "sales = pd.Series(np.random.randint(50, 200, size=60), index=dates)\n",
    "monthly = sales.resample(\"M\").sum()\n",
    "print(\"\\nMonthly totals:\")\n",
    "print(monthly)\n"
   ]
  },
  {
   "cell_type": "markdown",
   "id": "27c9fcda",
   "metadata": {},
   "source": [
    "## 3) Visualization with Matplotlib"
   ]
  },
  {
   "cell_type": "code",
   "execution_count": null,
   "id": "0563aac2",
   "metadata": {},
   "outputs": [],
   "source": [
    "\n",
    "import matplotlib.pyplot as plt\n",
    "\n",
    "# Line plot (monthly totals)\n",
    "plt.figure()\n",
    "monthly.plot()\n",
    "plt.title(\"Monthly Sales Totals\")\n",
    "plt.xlabel(\"Month\")\n",
    "plt.ylabel(\"Sales\")\n",
    "plt.show()\n",
    "\n",
    "# Bar plot (by city)\n",
    "city_totals = df.groupby(\"city\")[\"sales\"].sum()\n",
    "plt.figure()\n",
    "city_totals.plot(kind=\"bar\")\n",
    "plt.title(\"Total Sales by City\")\n",
    "plt.xlabel(\"City\")\n",
    "plt.ylabel(\"Total Sales\")\n",
    "plt.show()\n"
   ]
  },
  {
   "cell_type": "markdown",
   "id": "f8006c3d",
   "metadata": {},
   "source": [
    "## 4) Basic Statistics"
   ]
  },
  {
   "cell_type": "code",
   "execution_count": null,
   "id": "04deec60",
   "metadata": {},
   "outputs": [],
   "source": [
    "\n",
    "# Descriptive statistics\n",
    "print(\"Mean sales:\", df[\"sales\"].mean())\n",
    "print(\"Median sales:\", df[\"sales\"].median())\n",
    "print(\"Std dev:\", df[\"sales\"].std())\n",
    "print(\"Min/Max:\", df[\"sales\"].min(), df[\"sales\"].max())\n",
    "print(\"Quantiles:\", df[\"sales\"].quantile([0.25, 0.5, 0.75]))\n",
    "\n",
    "# Correlation example\n",
    "print(\"\\nCorrelation (dummy example)\")\n",
    "df2 = df.copy()\n",
    "df2[\"ad_spend\"] = [50, 80, 40, 30, 60]\n",
    "print(df2[[\"sales\", \"ad_spend\"]].corr())\n",
    "\n",
    "# Simple probability-like simulation (Monte Carlo style)\n",
    "np.random.seed(42)\n",
    "sim_samples = np.random.normal(loc=150, scale=20, size=10000)\n",
    "print(\"\\nSimulated sales ~ N(150, 20):\")\n",
    "print(\"Mean:\", sim_samples.mean(), \"Std:\", sim_samples.std())\n"
   ]
  }
 ],
 "metadata": {},
 "nbformat": 4,
 "nbformat_minor": 5
}
