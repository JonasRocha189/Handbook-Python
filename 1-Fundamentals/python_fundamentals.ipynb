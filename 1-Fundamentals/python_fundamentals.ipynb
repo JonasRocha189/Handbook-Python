{
 "cells": [
  {
   "cell_type": "markdown",
   "id": "c8efa918",
   "metadata": {},
   "source": [
    "# Python Fundamentals\n",
    "A beginner-friendly, step‑by‑step guide with examples."
   ]
  },
  {
   "cell_type": "markdown",
   "id": "497dcb42",
   "metadata": {},
   "source": [
    "## 1. Basic Syntax & Comments\n",
    "Python uses indentation and `#` for comments."
   ]
  },
  {
   "cell_type": "code",
   "execution_count": null,
   "id": "f775649e",
   "metadata": {},
   "outputs": [],
   "source": [
    "\n",
    "# This is a single-line comment\n",
    "print(\"Hello, Python!\")  # This prints text\n",
    "\n",
    "\"\"\"\n",
    "This is a multi‑line comment\n",
    "or docstring.\n",
    "\"\"\"\n"
   ]
  },
  {
   "cell_type": "markdown",
   "id": "f10d22be",
   "metadata": {},
   "source": [
    "## 2. Data Types\n",
    "Common built-in types: `int`, `float`, `bool`, `str`"
   ]
  },
  {
   "cell_type": "code",
   "execution_count": null,
   "id": "ec4a2f12",
   "metadata": {},
   "outputs": [],
   "source": [
    "\n",
    "x = 10       # int\n",
    "pi = 3.14    # float\n",
    "flag = True  # bool\n",
    "text = \"Python\"  # str\n",
    "\n",
    "print(type(x), type(pi), type(flag), type(text))\n"
   ]
  },
  {
   "cell_type": "markdown",
   "id": "6761e328",
   "metadata": {},
   "source": [
    "## 3. Type Conversion\n",
    "Use constructors like `int()`, `float()`, `str()`."
   ]
  },
  {
   "cell_type": "code",
   "execution_count": null,
   "id": "e0ee6b01",
   "metadata": {},
   "outputs": [],
   "source": [
    "\n",
    "num_str = \"42\"\n",
    "num_int = int(num_str)\n",
    "num_float = float(num_str)\n",
    "\n",
    "print(num_int, type(num_int))\n",
    "print(num_float, type(num_float))\n"
   ]
  },
  {
   "cell_type": "markdown",
   "id": "0598c123",
   "metadata": {},
   "source": [
    "## 4. Operators\n",
    "Arithmetic, comparison, logical."
   ]
  },
  {
   "cell_type": "code",
   "execution_count": null,
   "id": "961d3808",
   "metadata": {},
   "outputs": [],
   "source": [
    "\n",
    "a, b = 7, 3\n",
    "print(\"Addition:\", a + b)\n",
    "print(\"Division:\", a / b)\n",
    "print(\"Floor Division:\", a // b)\n",
    "print(\"Exponent:\", a ** b)\n",
    "\n",
    "# Comparison\n",
    "print(\"a > b ?\", a > b)\n",
    "\n",
    "# Logical\n",
    "print(\"a > 0 and b > 0 ?\", a > 0 and b > 0)\n"
   ]
  },
  {
   "cell_type": "markdown",
   "id": "d3bd890d",
   "metadata": {},
   "source": [
    "## 5. Data Structures\n",
    "Lists, Tuples, Sets, and Dictionaries."
   ]
  },
  {
   "cell_type": "code",
   "execution_count": null,
   "id": "3660727d",
   "metadata": {},
   "outputs": [],
   "source": [
    "\n",
    "# List\n",
    "fruits = [\"apple\", \"banana\", \"cherry\"]\n",
    "fruits.append(\"orange\")\n",
    "print(\"List:\", fruits)\n",
    "\n",
    "# Tuple\n",
    "point = (10, 20)\n",
    "print(\"Tuple:\", point)\n",
    "\n",
    "# Set\n",
    "unique_numbers = {1, 2, 2, 3}\n",
    "print(\"Set:\", unique_numbers)\n",
    "\n",
    "# Dictionary\n",
    "person = {\"name\": \"Alice\", \"age\": 25}\n",
    "person[\"city\"] = \"New York\"\n",
    "print(\"Dictionary:\", person)\n"
   ]
  },
  {
   "cell_type": "markdown",
   "id": "11459094",
   "metadata": {},
   "source": [
    "## 6. Control Flow\n",
    "Conditional statements and loops."
   ]
  },
  {
   "cell_type": "code",
   "execution_count": null,
   "id": "5651eb28",
   "metadata": {},
   "outputs": [],
   "source": [
    "\n",
    "x = 15\n",
    "\n",
    "if x > 10:\n",
    "    print(\"x is greater than 10\")\n",
    "else:\n",
    "    print(\"x is 10 or less\")\n",
    "\n",
    "# Loops\n",
    "for fruit in fruits:\n",
    "    print(\"Fruit:\", fruit)\n",
    "\n",
    "count = 0\n",
    "while count < 3:\n",
    "    print(\"Count:\", count)\n",
    "    count += 1\n"
   ]
  },
  {
   "cell_type": "markdown",
   "id": "ea9835cf",
   "metadata": {},
   "source": [
    "## 7. Functions\n",
    "Define reusable blocks of code."
   ]
  },
  {
   "cell_type": "code",
   "execution_count": null,
   "id": "e269195e",
   "metadata": {},
   "outputs": [],
   "source": [
    "\n",
    "def greet(name):\n",
    "    \"\"\"Return a greeting message.\"\"\"\n",
    "    return f\"Hello, {name}!\"\n",
    "\n",
    "print(greet(\"Jonas\"))\n"
   ]
  },
  {
   "cell_type": "markdown",
   "id": "d2d70e88",
   "metadata": {},
   "source": [
    "## 8. Scope & Variables\n",
    "Global vs. local scope."
   ]
  },
  {
   "cell_type": "code",
   "execution_count": null,
   "id": "ba5dde2f",
   "metadata": {},
   "outputs": [],
   "source": [
    "\n",
    "global_var = \"I am global\"\n",
    "\n",
    "def test_scope():\n",
    "    local_var = \"I am local\"\n",
    "    print(global_var)\n",
    "    print(local_var)\n",
    "\n",
    "test_scope()\n",
    "# print(local_var)  # would cause an error\n"
   ]
  },
  {
   "cell_type": "markdown",
   "id": "9051626d",
   "metadata": {},
   "source": [
    "## 9. Introduction to Type Hints\n",
    "Helps with readability and tooling."
   ]
  },
  {
   "cell_type": "code",
   "execution_count": null,
   "id": "e0fd27f9",
   "metadata": {},
   "outputs": [],
   "source": [
    "\n",
    "def add_numbers(a: int, b: int) -> int:\n",
    "    return a + b\n",
    "\n",
    "result = add_numbers(5, 7)\n",
    "print(\"Result:\", result)\n"
   ]
  }
 ],
 "metadata": {
  "language_info": {
   "name": "python"
  }
 },
 "nbformat": 4,
 "nbformat_minor": 5
}
