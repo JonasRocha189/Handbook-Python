{
 "cells": [
  {
   "cell_type": "markdown",
   "id": "9dce0f48",
   "metadata": {},
   "source": [
    "# Section 2 — Advanced Data Handling\n",
    "Practical Python techniques for data manipulation and file operations."
   ]
  },
  {
   "cell_type": "markdown",
   "id": "66171050",
   "metadata": {},
   "source": [
    "## 1. Comprehensions\n",
    "Compact syntax for creating lists, sets, and dictionaries."
   ]
  },
  {
   "cell_type": "code",
   "execution_count": null,
   "id": "f7f0ef19",
   "metadata": {},
   "outputs": [],
   "source": [
    "\n",
    "# List comprehension\n",
    "numbers = [x for x in range(10)]\n",
    "squares = [x**2 for x in range(10)]\n",
    "print(\"Numbers:\", numbers)\n",
    "print(\"Squares:\", squares)\n",
    "\n",
    "# Set comprehension\n",
    "unique_squares = {x**2 for x in [1,2,2,3,3,4]}\n",
    "print(\"Unique Squares:\", unique_squares)\n",
    "\n",
    "# Dictionary comprehension\n",
    "square_dict = {x: x**2 for x in range(5)}\n",
    "print(\"Square Dict:\", square_dict)\n"
   ]
  },
  {
   "cell_type": "markdown",
   "id": "06b919b6",
   "metadata": {},
   "source": [
    "## 2. Generators\n",
    "Use generators to save memory for large sequences."
   ]
  },
  {
   "cell_type": "code",
   "execution_count": null,
   "id": "20e0a78f",
   "metadata": {},
   "outputs": [],
   "source": [
    "\n",
    "def number_generator(n):\n",
    "    for i in range(n):\n",
    "        yield i\n",
    "\n",
    "gen = number_generator(5)\n",
    "print(\"Generator values:\")\n",
    "for val in gen:\n",
    "    print(val)\n",
    "\n",
    "# Generator expression\n",
    "gen_exp = (x**2 for x in range(5))\n",
    "print(\"Squares via generator expression:\", list(gen_exp))\n"
   ]
  },
  {
   "cell_type": "markdown",
   "id": "b1fc4368",
   "metadata": {},
   "source": [
    "## 3. String Manipulation\n",
    "Common operations for text handling."
   ]
  },
  {
   "cell_type": "code",
   "execution_count": null,
   "id": "92e18e09",
   "metadata": {},
   "outputs": [],
   "source": [
    "\n",
    "text = \" Python Data Handling \"\n",
    "print(\"Original:\", text)\n",
    "print(\"Lower:\", text.lower())\n",
    "print(\"Upper:\", text.upper())\n",
    "print(\"Strip:\", text.strip())\n",
    "print(\"Replace:\", text.replace(\"Handling\", \"Processing\"))\n",
    "print(\"Split:\", text.split())\n",
    "print(\"Join:\", \"-\".join([\"Data\",\"Science\",\"Python\"]))\n"
   ]
  },
  {
   "cell_type": "markdown",
   "id": "4a438723",
   "metadata": {},
   "source": [
    "## 4. Regular Expressions\n",
    "Pattern-based text searching and extraction."
   ]
  },
  {
   "cell_type": "code",
   "execution_count": null,
   "id": "f000a5cc",
   "metadata": {},
   "outputs": [],
   "source": [
    "\n",
    "import re\n",
    "\n",
    "text = \"Contact: email@example.com or support@company.org\"\n",
    "emails = re.findall(r\"[\\w\\.-]+@[\\w\\.-]+\", text)\n",
    "print(\"Emails found:\", emails)\n",
    "\n",
    "phone_text = \"Call +1-234-567-8900 today!\"\n",
    "phone = re.findall(r\"\\+\\d{1,2}-\\d{3}-\\d{3}-\\d{4}\", phone_text)\n",
    "print(\"Phone found:\", phone)\n"
   ]
  },
  {
   "cell_type": "markdown",
   "id": "69ca1d6d",
   "metadata": {},
   "source": [
    "## 5. Dates and Times\n",
    "Working with date and time in Python."
   ]
  },
  {
   "cell_type": "code",
   "execution_count": null,
   "id": "a849a941",
   "metadata": {},
   "outputs": [],
   "source": [
    "\n",
    "from datetime import datetime, timedelta\n",
    "\n",
    "now = datetime.now()\n",
    "print(\"Now:\", now)\n",
    "print(\"Formatted:\", now.strftime(\"%Y-%m-%d %H:%M:%S\"))\n",
    "\n",
    "future = now + timedelta(days=7)\n",
    "print(\"One week later:\", future)\n",
    "\n",
    "parsed_date = datetime.strptime(\"2025-01-15\", \"%Y-%m-%d\")\n",
    "print(\"Parsed Date:\", parsed_date)\n"
   ]
  },
  {
   "cell_type": "markdown",
   "id": "7c568e91",
   "metadata": {},
   "source": [
    "## 6. Working with Numbers\n",
    "Modules for math, decimal precision, and fractions."
   ]
  },
  {
   "cell_type": "code",
   "execution_count": null,
   "id": "97d32fbf",
   "metadata": {},
   "outputs": [],
   "source": [
    "\n",
    "import math\n",
    "from decimal import Decimal\n",
    "from fractions import Fraction\n",
    "\n",
    "print(\"Square root of 16:\", math.sqrt(16))\n",
    "print(\"Pi constant:\", math.pi)\n",
    "\n",
    "d = Decimal('0.1') + Decimal('0.2')\n",
    "print(\"Decimal addition:\", d)\n",
    "\n",
    "f = Fraction(3, 4) * Fraction(2, 5)\n",
    "print(\"Fraction result:\", f)\n"
   ]
  },
  {
   "cell_type": "markdown",
   "id": "a36569f7",
   "metadata": {},
   "source": [
    "## 7. File Handling\n",
    "Reading and writing text, CSV, JSON, and YAML files."
   ]
  },
  {
   "cell_type": "code",
   "execution_count": null,
   "id": "4119e4bb",
   "metadata": {},
   "outputs": [],
   "source": [
    "\n",
    "# Write to a file\n",
    "with open(\"sample.txt\", \"w\") as f:\n",
    "    f.write(\"Hello Python!\\nThis is a test file.\")\n",
    "\n",
    "# Read the file\n",
    "with open(\"sample.txt\", \"r\") as f:\n",
    "    content = f.read()\n",
    "print(\"File Content:\\n\", content)\n"
   ]
  },
  {
   "cell_type": "markdown",
   "id": "55cf3467",
   "metadata": {},
   "source": [
    "### CSV Handling"
   ]
  },
  {
   "cell_type": "code",
   "execution_count": null,
   "id": "39b6713b",
   "metadata": {},
   "outputs": [],
   "source": [
    "\n",
    "import csv\n",
    "\n",
    "# Write CSV\n",
    "with open(\"sample.csv\", \"w\", newline=\"\") as f:\n",
    "    writer = csv.writer(f)\n",
    "    writer.writerow([\"Name\", \"Age\"])\n",
    "    writer.writerow([\"Alice\", 30])\n",
    "    writer.writerow([\"Bob\", 25])\n",
    "\n",
    "# Read CSV\n",
    "with open(\"sample.csv\", \"r\") as f:\n",
    "    reader = csv.reader(f)\n",
    "    for row in reader:\n",
    "        print(row)\n"
   ]
  },
  {
   "cell_type": "markdown",
   "id": "32352b95",
   "metadata": {},
   "source": [
    "### JSON Handling"
   ]
  },
  {
   "cell_type": "code",
   "execution_count": null,
   "id": "8b48854f",
   "metadata": {},
   "outputs": [],
   "source": [
    "\n",
    "import json\n",
    "\n",
    "data = {\"name\": \"Alice\", \"age\": 30}\n",
    "\n",
    "# Write JSON\n",
    "with open(\"sample.json\", \"w\") as f:\n",
    "    json.dump(data, f)\n",
    "\n",
    "# Read JSON\n",
    "with open(\"sample.json\", \"r\") as f:\n",
    "    loaded = json.load(f)\n",
    "print(\"Loaded JSON:\", loaded)\n"
   ]
  },
  {
   "cell_type": "markdown",
   "id": "5d8b44e1",
   "metadata": {},
   "source": [
    "### YAML Handling"
   ]
  },
  {
   "cell_type": "code",
   "execution_count": null,
   "id": "fe8b8b5b",
   "metadata": {},
   "outputs": [],
   "source": [
    "\n",
    "# Requires PyYAML: pip install pyyaml\n",
    "import yaml\n",
    "\n",
    "yaml_data = {\"project\": \"Python Handbook\", \"version\": 1.0}\n",
    "\n",
    "with open(\"sample.yaml\", \"w\") as f:\n",
    "    yaml.dump(yaml_data, f)\n",
    "\n",
    "with open(\"sample.yaml\", \"r\") as f:\n",
    "    loaded_yaml = yaml.safe_load(f)\n",
    "\n",
    "print(\"Loaded YAML:\", loaded_yaml)\n"
   ]
  },
  {
   "cell_type": "markdown",
   "id": "198eb530",
   "metadata": {},
   "source": [
    "### Compression"
   ]
  },
  {
   "cell_type": "code",
   "execution_count": null,
   "id": "6585bfc8",
   "metadata": {},
   "outputs": [],
   "source": [
    "\n",
    "import zipfile\n",
    "\n",
    "# Create a zip file\n",
    "with zipfile.ZipFile(\"archive.zip\", \"w\") as z:\n",
    "    z.write(\"sample.txt\")\n",
    "    z.write(\"sample.csv\")\n",
    "\n",
    "print(\"Created archive.zip\")\n"
   ]
  },
  {
   "cell_type": "markdown",
   "id": "72ca1667",
   "metadata": {},
   "source": [
    "## 8. System Modules\n",
    "Interacting with the operating system."
   ]
  },
  {
   "cell_type": "code",
   "execution_count": null,
   "id": "b59bb379",
   "metadata": {},
   "outputs": [],
   "source": [
    "\n",
    "import os\n",
    "import sys\n",
    "from pathlib import Path\n",
    "\n",
    "print(\"Current Working Directory:\", os.getcwd())\n",
    "print(\"Python Version:\", sys.version)\n",
    "\n",
    "# Using pathlib\n",
    "p = Path(\"sample.txt\")\n",
    "print(\"File exists?\", p.exists())\n",
    "print(\"File size (bytes):\", p.stat().st_size)\n"
   ]
  }
 ],
 "metadata": {},
 "nbformat": 4,
 "nbformat_minor": 5
}
