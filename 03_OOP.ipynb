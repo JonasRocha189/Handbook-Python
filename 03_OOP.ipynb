{
 "cells": [
  {
   "cell_type": "markdown",
   "id": "e2fb1fd3",
   "metadata": {},
   "source": [
    "# Section 3 — Object‑Oriented Programming (OOP)\n",
    "Learn the core OOP principles in Python with practical examples."
   ]
  },
  {
   "cell_type": "markdown",
   "id": "3add39a0",
   "metadata": {},
   "source": [
    "## 1. Classes and Objects\n",
    "A **class** defines a blueprint for objects. An **object** is an instance of a class."
   ]
  },
  {
   "cell_type": "code",
   "execution_count": null,
   "id": "056dde15",
   "metadata": {},
   "outputs": [],
   "source": [
    "\n",
    "class Person:\n",
    "    def __init__(self, name, age):\n",
    "        self.name = name\n",
    "        self.age = age\n",
    "\n",
    "    def greet(self):\n",
    "        return f\"Hello, my name is {self.name} and I am {self.age} years old.\"\n",
    "\n",
    "# Create objects\n",
    "person1 = Person(\"Alice\", 30)\n",
    "person2 = Person(\"Bob\", 25)\n",
    "\n",
    "print(person1.greet())\n",
    "print(person2.greet())\n"
   ]
  },
  {
   "cell_type": "markdown",
   "id": "216a911a",
   "metadata": {},
   "source": [
    "## 2. Attributes and Methods\n",
    "- **Attributes** are variables inside a class.\n",
    "- **Methods** are functions defined inside a class."
   ]
  },
  {
   "cell_type": "code",
   "execution_count": null,
   "id": "a5f2666b",
   "metadata": {},
   "outputs": [],
   "source": [
    "\n",
    "class Car:\n",
    "    wheels = 4  # Class attribute\n",
    "\n",
    "    def __init__(self, brand, model):\n",
    "        self.brand = brand       # Instance attribute\n",
    "        self.model = model\n",
    "\n",
    "    def start_engine(self):      # Instance method\n",
    "        return f\"{self.brand} {self.model} engine started!\"\n",
    "\n",
    "car = Car(\"Tesla\", \"Model 3\")\n",
    "print(car.start_engine())\n",
    "print(\"Wheels:\", car.wheels)\n"
   ]
  },
  {
   "cell_type": "markdown",
   "id": "61118e7a",
   "metadata": {},
   "source": [
    "## 3. Encapsulation and Access Modifiers\n",
    "Python uses naming conventions:\n",
    "- Public: `self.attribute`\n",
    "- Protected: `_attribute`\n",
    "- Private: `__attribute`"
   ]
  },
  {
   "cell_type": "code",
   "execution_count": null,
   "id": "d8e89302",
   "metadata": {},
   "outputs": [],
   "source": [
    "\n",
    "class BankAccount:\n",
    "    def __init__(self, owner, balance):\n",
    "        self.owner = owner\n",
    "        self.__balance = balance   # private attribute\n",
    "\n",
    "    def deposit(self, amount):\n",
    "        self.__balance += amount\n",
    "\n",
    "    def get_balance(self):\n",
    "        return self.__balance\n",
    "\n",
    "account = BankAccount(\"Jonas\", 1000)\n",
    "account.deposit(500)\n",
    "print(\"Balance:\", account.get_balance())\n",
    "# print(account.__balance)  # would raise AttributeError\n"
   ]
  },
  {
   "cell_type": "markdown",
   "id": "322742ce",
   "metadata": {},
   "source": [
    "## 4. Inheritance and Polymorphism\n",
    "A class can inherit attributes and methods from another class."
   ]
  },
  {
   "cell_type": "code",
   "execution_count": null,
   "id": "a74fbf61",
   "metadata": {},
   "outputs": [],
   "source": [
    "\n",
    "class Animal:\n",
    "    def speak(self):\n",
    "        return \"Some sound\"\n",
    "\n",
    "class Dog(Animal):\n",
    "    def speak(self):  # Polymorphism: method overridden\n",
    "        return \"Woof!\"\n",
    "\n",
    "class Cat(Animal):\n",
    "    def speak(self):\n",
    "        return \"Meow!\"\n",
    "\n",
    "animals = [Dog(), Cat(), Animal()]\n",
    "for animal in animals:\n",
    "    print(animal.speak())\n"
   ]
  },
  {
   "cell_type": "markdown",
   "id": "ed7065eb",
   "metadata": {},
   "source": [
    "## 5. Class and Static Methods\n",
    "Use `@classmethod` to define methods that act on the class itself, and `@staticmethod` for utility methods."
   ]
  },
  {
   "cell_type": "code",
   "execution_count": null,
   "id": "e97e7805",
   "metadata": {},
   "outputs": [],
   "source": [
    "\n",
    "class MathUtils:\n",
    "    factor = 2\n",
    "\n",
    "    @classmethod\n",
    "    def multiply_by_factor(cls, number):\n",
    "        return number * cls.factor\n",
    "\n",
    "    @staticmethod\n",
    "    def add(a, b):\n",
    "        return a + b\n",
    "\n",
    "print(\"Multiply by factor:\", MathUtils.multiply_by_factor(10))\n",
    "print(\"Add numbers:\", MathUtils.add(5, 7))\n"
   ]
  },
  {
   "cell_type": "markdown",
   "id": "4607e25d",
   "metadata": {},
   "source": [
    "## 6. Magic / Dunder Methods\n",
    "Special methods like `__str__`, `__len__` allow objects to interact with Python’s built-in functions."
   ]
  },
  {
   "cell_type": "code",
   "execution_count": null,
   "id": "18c4894f",
   "metadata": {},
   "outputs": [],
   "source": [
    "\n",
    "class Book:\n",
    "    def __init__(self, title, pages):\n",
    "        self.title = title\n",
    "        self.pages = pages\n",
    "\n",
    "    def __str__(self):\n",
    "        return f\"Book: {self.title}\"\n",
    "\n",
    "    def __len__(self):\n",
    "        return self.pages\n",
    "\n",
    "b = Book(\"Python 101\", 350)\n",
    "print(b)          # calls __str__\n",
    "print(len(b))     # calls __len__\n"
   ]
  },
  {
   "cell_type": "markdown",
   "id": "377c3625",
   "metadata": {},
   "source": [
    "## 7. Abstract Classes\n",
    "Define a common interface that must be implemented in subclasses."
   ]
  },
  {
   "cell_type": "code",
   "execution_count": null,
   "id": "b2db2864",
   "metadata": {},
   "outputs": [],
   "source": [
    "\n",
    "from abc import ABC, abstractmethod\n",
    "\n",
    "class Shape(ABC):\n",
    "    @abstractmethod\n",
    "    def area(self):\n",
    "        pass\n",
    "\n",
    "class Circle(Shape):\n",
    "    def __init__(self, radius):\n",
    "        self.radius = radius\n",
    "\n",
    "    def area(self):\n",
    "        return 3.14 * self.radius ** 2\n",
    "\n",
    "c = Circle(5)\n",
    "print(\"Circle area:\", c.area())\n"
   ]
  },
  {
   "cell_type": "markdown",
   "id": "f970f826",
   "metadata": {},
   "source": [
    "## 8. Data Classes\n",
    "Provide a concise way to create classes mainly used for storing data."
   ]
  },
  {
   "cell_type": "code",
   "execution_count": null,
   "id": "ade69169",
   "metadata": {},
   "outputs": [],
   "source": [
    "\n",
    "from dataclasses import dataclass\n",
    "\n",
    "@dataclass\n",
    "class Point:\n",
    "    x: int\n",
    "    y: int\n",
    "\n",
    "p1 = Point(3, 4)\n",
    "print(p1)\n"
   ]
  },
  {
   "cell_type": "markdown",
   "id": "52005650",
   "metadata": {},
   "source": [
    "## 9. Property Decorators\n",
    "Use `@property` to control access to attributes."
   ]
  },
  {
   "cell_type": "code",
   "execution_count": null,
   "id": "bb963ae2",
   "metadata": {},
   "outputs": [],
   "source": [
    "\n",
    "class Temperature:\n",
    "    def __init__(self, celsius):\n",
    "        self._celsius = celsius\n",
    "\n",
    "    @property\n",
    "    def fahrenheit(self):\n",
    "        return (self._celsius * 9/5) + 32\n",
    "\n",
    "t = Temperature(25)\n",
    "print(\"Celsius:\", t._celsius)\n",
    "print(\"Fahrenheit:\", t.fahrenheit)\n"
   ]
  },
  {
   "cell_type": "markdown",
   "id": "b1e363e5",
   "metadata": {},
   "source": [
    "## 10. Composition vs Inheritance\n",
    "Composition uses objects of other classes as attributes."
   ]
  },
  {
   "cell_type": "code",
   "execution_count": null,
   "id": "d2f9aad0",
   "metadata": {},
   "outputs": [],
   "source": [
    "\n",
    "class Engine:\n",
    "    def start(self):\n",
    "        return \"Engine started\"\n",
    "\n",
    "class Car:\n",
    "    def __init__(self):\n",
    "        self.engine = Engine()  # Composition\n",
    "\n",
    "    def drive(self):\n",
    "        return self.engine.start() + \" -> Car is moving\"\n",
    "\n",
    "my_car = Car()\n",
    "print(my_car.drive())\n"
   ]
  }
 ],
 "metadata": {},
 "nbformat": 4,
 "nbformat_minor": 5
}
