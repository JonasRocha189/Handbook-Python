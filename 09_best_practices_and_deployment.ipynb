{
 "cells": [
  {
   "cell_type": "markdown",
   "id": "2148bffd",
   "metadata": {},
   "source": [
    "# Section 9 — Best Practices & Deployment\n",
    "Guidelines and practical snippets for organizing projects, documentation, version control, configuration, packaging, containers, and deployment."
   ]
  },
  {
   "cell_type": "markdown",
   "id": "0d9cdae0",
   "metadata": {},
   "source": [
    "## 9.1 Project Organization\n",
    "A clean, predictable structure improves collaboration and maintainability.\n",
    "\n",
    "```\n",
    "my-python-project/\n",
    "├─ README.md\n",
    "├─ pyproject.toml            # or setup.cfg/setup.py\n",
    "├─ requirements.txt          # or poetry.lock\n",
    "├─ .env.example\n",
    "├─ .gitignore\n",
    "├─ src/\n",
    "│  └─ mypkg/\n",
    "│     ├─ __init__.py\n",
    "│     ├─ core.py\n",
    "│     └─ utils.py\n",
    "├─ tests/\n",
    "│  └─ test_core.py\n",
    "├─ notebooks/\n",
    "├─ data/ (raw, interim, processed)\n",
    "└─ docs/\n",
    "```\n",
    "**Tips:** use `src/` layout, keep `data/` out of version control, and add docstrings everywhere."
   ]
  },
  {
   "cell_type": "markdown",
   "id": "e7886667",
   "metadata": {},
   "source": [
    "## 9.2 Documentation\n",
    "- **Docstrings**: write function/class/module docstrings (PEP 257).\n",
    "- **Sphinx**: powerful documentation generator for Python projects.\n",
    "- **MkDocs**: Markdown-first, fast and simple.\n",
    "\n",
    "### Minimal Example Docstring"
   ]
  },
  {
   "cell_type": "code",
   "execution_count": null,
   "id": "d8570e35",
   "metadata": {},
   "outputs": [],
   "source": [
    "def add(a: int, b: int) -> int:\n",
    "    \"\"\"Add two integers.\n",
    "\n",
    "    Parameters\n",
    "    ----------\n",
    "    a : int\n",
    "        First number.\n",
    "    b : int\n",
    "        Second number.\n",
    "\n",
    "    Returns\n",
    "    -------\n",
    "    int\n",
    "        Sum of a and b.\n",
    "    \"\"\"\n",
    "    return a + b\n",
    "\n",
    "help(add)"
   ]
  },
  {
   "cell_type": "markdown",
   "id": "9116a048",
   "metadata": {},
   "source": [
    "### Sphinx Quickstart (conceptual)\n",
    "```bash\n",
    "pip install sphinx\n",
    "sphinx-quickstart docs\n",
    "sphinx-apidoc -o docs/source src/mypkg\n",
    "make html  # inside docs\n",
    "```"
   ]
  },
  {
   "cell_type": "markdown",
   "id": "3affbd44",
   "metadata": {},
   "source": [
    "## 9.3 Version Control (Git & GitHub)\n",
    "- Commit early and often, with meaningful messages.\n",
    "- Use feature branches and pull requests.\n",
    "- Protect `main` with PR reviews and CI.\n",
    "\n",
    "### Basic Commands"
   ]
  },
  {
   "cell_type": "code",
   "execution_count": null,
   "id": "e7aa0093",
   "metadata": {},
   "outputs": [],
   "source": [
    "git_cheats = '''\n",
    "git init\n",
    "git add .\n",
    "git commit -m \"Initial commit\"\n",
    "git branch -M main\n",
    "git remote add origin https://github.com/<user>/<repo>.git\n",
    "git push -u origin main\n",
    "'''\n",
    "print(git_cheats)"
   ]
  },
  {
   "cell_type": "markdown",
   "id": "ac38d779",
   "metadata": {},
   "source": [
    "## 9.4 Environment Variables & Configuration\n",
    "Use environment variables for secrets and configuration. Avoid hardcoding sensitive data.\n",
    "\n",
    "### Example with `python-dotenv`"
   ]
  },
  {
   "cell_type": "code",
   "execution_count": null,
   "id": "2e0513d4",
   "metadata": {},
   "outputs": [],
   "source": [
    "from dotenv import load_dotenv\n",
    "import os\n",
    "load_dotenv(dotenv_path='.env', override=True)\n",
    "API_KEY = os.getenv('API_KEY', 'missing')\n",
    "print('API_KEY loaded? ', API_KEY != 'missing')"
   ]
  },
  {
   "cell_type": "markdown",
   "id": "aa991f43",
   "metadata": {},
   "source": [
    "## 9.5 Packaging\n",
    "Prefer **`pyproject.toml`** (PEP 517/518) with `setuptools` or `poetry`.\n",
    "\n",
    "### Minimal `pyproject.toml` (setuptools)\n",
    "```toml\n",
    "[build-system]\n",
    "requires = [\"setuptools\", \"wheel\"]\n",
    "build-backend = \"setuptools.build_meta\"\n",
    "\n",
    "[project]\n",
    "name = \"mypkg\"\n",
    "version = \"0.1.0\"\n",
    "description = \"My sample package\"\n",
    "requires-python = \">=3.10\"\n",
    "dependencies = [\n",
    "  \"pandas>=2.0\",\n",
    "]\n",
    "```\n",
    "### Poetry (alternative)\n",
    "```bash\n",
    "pipx install poetry\n",
    "poetry init\n",
    "poetry add pandas\n",
    "poetry build\n",
    "poetry publish\n",
    "```"
   ]
  },
  {
   "cell_type": "markdown",
   "id": "ba32fd7e",
   "metadata": {},
   "source": [
    "## 9.6 Docker & Containers\n",
    "Containerize apps for reproducible deploys.\n",
    "\n",
    "### Minimal `Dockerfile`\n",
    "```Dockerfile\n",
    "FROM python:3.11-slim\n",
    "WORKDIR /app\n",
    "COPY pyproject.toml .\n",
    "RUN pip install --upgrade pip && pip install -e .\n",
    "COPY . .\n",
    "CMD [\"python\", \"-m\", \"mypkg\"]\n",
    "```\n",
    "### Build & Run\n",
    "```bash\n",
    "docker build -t mypkg:latest .\n",
    "docker run --rm -p 8080:8080 --env-file .env mypkg:latest\n",
    "```"
   ]
  },
  {
   "cell_type": "markdown",
   "id": "9045ce5c",
   "metadata": {},
   "source": [
    "## 9.7 Deploying Models & Apps\n",
    "- **Streamlit** for quick data apps.\n",
    "- **Flask/FastAPI** for REST APIs.\n",
    "- Host on **Docker + cloud** (e.g., AWS, GCP, Azure, Render).\n",
    "\n",
    "### Minimal Flask API Example"
   ]
  },
  {
   "cell_type": "code",
   "execution_count": null,
   "id": "5fe85d2d",
   "metadata": {},
   "outputs": [],
   "source": [
    "from flask import Flask, jsonify, request\n",
    "app = Flask(__name__)\n",
    "\n",
    "@app.route('/predict', methods=['POST'])\n",
    "def predict():\n",
    "    payload = request.get_json(force=True)\n",
    "    # Dummy model logic\n",
    "    score = sum(payload.get('features', []))\n",
    "    return jsonify({'score': score})\n",
    "\n",
    "print('Save this to app.py and run: flask run')"
   ]
  },
  {
   "cell_type": "markdown",
   "id": "c3af9bff",
   "metadata": {},
   "source": [
    "### Streamlit (conceptual)\n",
    "```bash\n",
    "pip install streamlit\n",
    "streamlit hello\n",
    "```\n",
    "Minimal app:\n",
    "```python\n",
    "import streamlit as st\n",
    "st.title('My Data App')\n",
    "x = st.slider('Pick a number', 0, 10, 3)\n",
    "st.write('You picked', x)\n",
    "```"
   ]
  },
  {
   "cell_type": "markdown",
   "id": "ee2cf3f7",
   "metadata": {},
   "source": [
    "## 9.8 CI/CD (Conceptual)\n",
    "- Use **GitHub Actions** to run tests, linters, and build on every PR.\n",
    "- Enforce branch protections and code reviews.\n",
    "- Deploy automatically on tagged releases.\n",
    "\n",
    "### Minimal GitHub Actions Workflow (`.github/workflows/ci.yml`)\n",
    "```yaml\n",
    "name: CI\n",
    "on: [push, pull_request]\n",
    "jobs:\n",
    "  build:\n",
    "    runs-on: ubuntu-latest\n",
    "    steps:\n",
    "      - uses: actions/checkout@v4\n",
    "      - uses: actions/setup-python@v5\n",
    "        with:\n",
    "          python-version: '3.11'\n",
    "      - run: pip install -r requirements.txt\n",
    "      - run: pip install pytest ruff black\n",
    "      - run: ruff check .\n",
    "      - run: black --check .\n",
    "      - run: pytest -q\n",
    "```"
   ]
  },
  {
   "cell_type": "markdown",
   "id": "9d552e98",
   "metadata": {},
   "source": [
    "> **Checklist:**\n",
    "- Clear repo structure (`src/`, `tests/`, `docs/`).\n",
    "- Docstrings + README + change log.\n",
    "- Type hints and linters (Ruff), formatter (Black).\n",
    "- Secrets via env vars; `.env.example` committed.\n",
    "- Reproducible builds (Docker) and CI for quality gates."
   ]
  }
 ],
 "metadata": {},
 "nbformat": 4,
 "nbformat_minor": 5
}
