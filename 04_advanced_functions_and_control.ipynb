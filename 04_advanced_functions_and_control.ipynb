{
 "cells": [
  {
   "cell_type": "markdown",
   "id": "b426e996",
   "metadata": {},
   "source": [
    "# Section 4 — Advanced Functions & Control\n",
    "Focused examples for functional tools, decorators, context managers, error handling, logging, testing, and concurrency."
   ]
  },
  {
   "cell_type": "markdown",
   "id": "4ff720ae",
   "metadata": {},
   "source": [
    "## 1) Lambda, `map`, `filter`, `reduce`\n",
    "Anonymous functions and functional helpers."
   ]
  },
  {
   "cell_type": "code",
   "execution_count": null,
   "id": "8baa3a0d",
   "metadata": {},
   "outputs": [],
   "source": [
    "\n",
    "from functools import reduce\n",
    "\n",
    "nums = [1, 2, 3, 4, 5]\n",
    "\n",
    "# lambda\n",
    "double = lambda x: x * 2\n",
    "print(\"Lambda double(3):\", double(3))\n",
    "\n",
    "# map: apply function to each element\n",
    "doubled = list(map(lambda x: x * 2, nums))\n",
    "print(\"map doubled:\", doubled)\n",
    "\n",
    "# filter: keep elements that match condition\n",
    "evens = list(filter(lambda x: x % 2 == 0, nums))\n",
    "print(\"filter evens:\", evens)\n",
    "\n",
    "# reduce: accumulate to a single value\n",
    "product = reduce(lambda a, b: a * b, nums, 1)\n",
    "print(\"reduce product:\", product)\n"
   ]
  },
  {
   "cell_type": "markdown",
   "id": "d0048c27",
   "metadata": {},
   "source": [
    "## 2) Decorators\n",
    "Wrap or enhance functions without modifying their source."
   ]
  },
  {
   "cell_type": "code",
   "execution_count": null,
   "id": "005d697e",
   "metadata": {},
   "outputs": [],
   "source": [
    "\n",
    "import time\n",
    "from functools import wraps\n",
    "\n",
    "def timing(func):\n",
    "    @wraps(func)\n",
    "    def wrapper(*args, **kwargs):\n",
    "        t0 = time.time()\n",
    "        result = func(*args, **kwargs)\n",
    "        dt = (time.time() - t0) * 1000\n",
    "        print(f\"{func.__name__} took {dt:.2f} ms\")\n",
    "        return result\n",
    "    return wrapper\n",
    "\n",
    "@timing\n",
    "def slow_add(a, b):\n",
    "    time.sleep(0.1)\n",
    "    return a + b\n",
    "\n",
    "print(\"slow_add:\", slow_add(3, 4))\n",
    "print(\"function name preserved:\", slow_add.__name__)\n"
   ]
  },
  {
   "cell_type": "markdown",
   "id": "f081c8b6",
   "metadata": {},
   "source": [
    "## 3) Context Managers (`with`)\n",
    "Guarantee setup/teardown via `__enter__`/`__exit__`, or use `contextlib`."
   ]
  },
  {
   "cell_type": "code",
   "execution_count": null,
   "id": "8a4563a5",
   "metadata": {},
   "outputs": [],
   "source": [
    "\n",
    "# Built-in example: file handling\n",
    "with open(\"cm_example.txt\", \"w\") as f:\n",
    "    f.write(\"Hello context manager!\\n\")\n",
    "\n",
    "# Custom context manager\n",
    "class managed_resource:\n",
    "    def __enter__(self):\n",
    "        print(\"Acquiring resource\")\n",
    "        return {\"status\": \"ok\"}\n",
    "    def __exit__(self, exc_type, exc, tb):\n",
    "        print(\"Releasing resource\")\n",
    "        # Swallow exceptions? return True to suppress, False to propagate\n",
    "        return False\n",
    "\n",
    "with managed_resource() as res:\n",
    "    print(\"Inside with:\", res)\n"
   ]
  },
  {
   "cell_type": "markdown",
   "id": "ef034837",
   "metadata": {},
   "source": [
    "### `contextlib` helpers"
   ]
  },
  {
   "cell_type": "code",
   "execution_count": null,
   "id": "3de12d1c",
   "metadata": {},
   "outputs": [],
   "source": [
    "\n",
    "from contextlib import contextmanager\n",
    "\n",
    "@contextmanager\n",
    "def timer():\n",
    "    import time\n",
    "    t0 = time.time()\n",
    "    try:\n",
    "        yield\n",
    "    finally:\n",
    "        print(f\"Elapsed: {(time.time() - t0)*1000:.2f} ms\")\n",
    "\n",
    "with timer():\n",
    "    sum(range(1_000_000))\n"
   ]
  },
  {
   "cell_type": "markdown",
   "id": "d8e2ab94",
   "metadata": {},
   "source": [
    "## 4) Exceptions & Error Handling\n",
    "Use `try/except/else/finally`, raise custom exceptions."
   ]
  },
  {
   "cell_type": "code",
   "execution_count": null,
   "id": "06106fe7",
   "metadata": {},
   "outputs": [],
   "source": [
    "\n",
    "class TooSmallError(Exception):\n",
    "    \"\"\"Raised when a value is too small.\"\"\"\n",
    "\n",
    "def reciprocal(x):\n",
    "    if x == 0:\n",
    "        raise ZeroDivisionError(\"x cannot be zero\")\n",
    "    return 1/x\n",
    "\n",
    "try:\n",
    "    print(\"Reciprocal(2):\", reciprocal(2))\n",
    "    print(\"Reciprocal(0):\", reciprocal(0))\n",
    "except ZeroDivisionError as e:\n",
    "    print(\"Caught ZeroDivisionError:\", e)\n",
    "else:\n",
    "    print(\"No exceptions raised.\")\n",
    "finally:\n",
    "    print(\"finally: always runs\")\n",
    "\n",
    "# Raising custom exception\n",
    "def check_min(value, min_value=10):\n",
    "    if value < min_value:\n",
    "        raise TooSmallError(f\"{value} < {min_value}\")\n",
    "    return value\n",
    "\n",
    "try:\n",
    "    check_min(5)\n",
    "except TooSmallError as e:\n",
    "    print(\"Custom exception:\", e)\n"
   ]
  },
  {
   "cell_type": "markdown",
   "id": "86e7a810",
   "metadata": {},
   "source": [
    "## 5) Logging\n",
    "Structured logs for debugging and observability."
   ]
  },
  {
   "cell_type": "code",
   "execution_count": null,
   "id": "42fcdd59",
   "metadata": {},
   "outputs": [],
   "source": [
    "\n",
    "import logging\n",
    "\n",
    "# Basic configuration\n",
    "logging.basicConfig(\n",
    "    level=logging.INFO,\n",
    "    format=\"%(asctime)s [%(levelname)s] %(name)s: %(message)s\",\n",
    "    datefmt=\"%H:%M:%S\"\n",
    ")\n",
    "logger = logging.getLogger(\"demo\")\n",
    "\n",
    "logger.debug(\"Debug message (may not show at INFO level)\")\n",
    "logger.info(\"Info message\")\n",
    "logger.warning(\"Warning message\")\n",
    "logger.error(\"Error message\")\n",
    "logger.critical(\"Critical message\")\n",
    "\n",
    "# Logging within try/except\n",
    "try:\n",
    "    1/0\n",
    "except Exception as e:\n",
    "    logger.exception(\"Something went wrong\")\n"
   ]
  },
  {
   "cell_type": "markdown",
   "id": "34e7c758",
   "metadata": {},
   "source": [
    "## 6) Testing & Debugging\n",
    "Minimal examples with `unittest` and `assert`."
   ]
  },
  {
   "cell_type": "code",
   "execution_count": null,
   "id": "d3a91969",
   "metadata": {},
   "outputs": [],
   "source": [
    "\n",
    "# Simple asserts\n",
    "def add(a, b): \n",
    "    return a + b\n",
    "\n",
    "assert add(2, 3) == 5\n",
    "print(\"Assert passed.\")\n",
    "\n",
    "# Minimal unittest (can run via `python -m unittest` in a script)\n",
    "import unittest\n",
    "\n",
    "class TestMath(unittest.TestCase):\n",
    "    def test_add(self):\n",
    "        self.assertEqual(add(2, 2), 4)\n",
    "\n",
    "suite = unittest.TestLoader().loadTestsFromTestCase(TestMath)\n",
    "unittest.TextTestRunner(verbosity=2).run(suite);\n"
   ]
  },
  {
   "cell_type": "markdown",
   "id": "b5f37d57",
   "metadata": {},
   "source": [
    "## 7) Concurrency: `threading`, `multiprocessing`, `asyncio`\n",
    "Parallelism and async IO basics."
   ]
  },
  {
   "cell_type": "markdown",
   "id": "ebe66831",
   "metadata": {},
   "source": [
    "### 7.1 `threading` (I/O-bound tasks)"
   ]
  },
  {
   "cell_type": "code",
   "execution_count": null,
   "id": "b9941961",
   "metadata": {},
   "outputs": [],
   "source": [
    "\n",
    "import threading, time\n",
    "\n",
    "def io_task(name, delay=0.2):\n",
    "    time.sleep(delay)\n",
    "    print(f\"[thread] {name} done\")\n",
    "\n",
    "threads = [threading.Thread(target=io_task, args=(f\"t{i}\", 0.2)) for i in range(3)]\n",
    "[t.start() for t in threads]\n",
    "[t.join() for t in threads]\n",
    "print(\"All threads finished\")\n"
   ]
  },
  {
   "cell_type": "markdown",
   "id": "ca62f52a",
   "metadata": {},
   "source": [
    "### 7.2 `multiprocessing` (CPU-bound tasks)"
   ]
  },
  {
   "cell_type": "code",
   "execution_count": null,
   "id": "07077736",
   "metadata": {},
   "outputs": [],
   "source": [
    "\n",
    "from multiprocessing import Pool, cpu_count\n",
    "\n",
    "def square(n): \n",
    "    return n*n\n",
    "\n",
    "with Pool(processes=min(4, cpu_count())) as pool:\n",
    "    res = pool.map(square, range(10))\n",
    "print(\"Squares via multiprocessing:\", res)\n"
   ]
  },
  {
   "cell_type": "markdown",
   "id": "c4bc2833",
   "metadata": {},
   "source": [
    "### 7.3 `asyncio` (async IO)"
   ]
  },
  {
   "cell_type": "code",
   "execution_count": null,
   "id": "40607a48",
   "metadata": {},
   "outputs": [],
   "source": [
    "\n",
    "import asyncio\n",
    "import random\n",
    "\n",
    "async def fetch(name):\n",
    "    await asyncio.sleep(random.uniform(0.1, 0.3))\n",
    "    print(f\"[async] {name} fetched\")\n",
    "\n",
    "async def main():\n",
    "    tasks = [fetch(f\"task-{i}\") for i in range(3)]\n",
    "    await asyncio.gather(*tasks)\n",
    "\n",
    "asyncio.run(main())\n"
   ]
  }
 ],
 "metadata": {},
 "nbformat": 4,
 "nbformat_minor": 5
}
